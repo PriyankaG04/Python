{
  "nbformat": 4,
  "nbformat_minor": 0,
  "metadata": {
    "colab": {
      "provenance": [],
      "authorship_tag": "ABX9TyOAofm4L3CeisFJCYw/xUUF",
      "include_colab_link": true
    },
    "kernelspec": {
      "name": "python3",
      "display_name": "Python 3"
    },
    "language_info": {
      "name": "python"
    }
  },
  "cells": [
    {
      "cell_type": "markdown",
      "metadata": {
        "id": "view-in-github",
        "colab_type": "text"
      },
      "source": [
        "<a href=\"https://colab.research.google.com/github/PriyankaG04/Python/blob/main/Untitled0.ipynb\" target=\"_parent\"><img src=\"https://colab.research.google.com/assets/colab-badge.svg\" alt=\"Open In Colab\"/></a>"
      ]
    },
    {
      "cell_type": "code",
      "execution_count": null,
      "metadata": {
        "colab": {
          "base_uri": "https://localhost:8080/"
        },
        "id": "6je6nNOzckHH",
        "outputId": "ebf7d534-14f0-4c6d-cdea-37e521d273dd"
      },
      "outputs": [
        {
          "output_type": "stream",
          "name": "stdout",
          "text": [
            "Enter the 1st number: 2\n",
            "Enter the 2nd number: 6\n",
            "Enter the operator +, -, *, / : +\n",
            "Sum of 2 nums = 8\n"
          ]
        }
      ],
      "source": [
        "\n",
        "a = int(input(\"Enter the 1st number: \"))\n",
        "b = int(input(\"Enter the 2nd number: \"))\n",
        "o = input(\"Enter the operator +, -, *, / : \")\n",
        "\n",
        "if o == \"+\":\n",
        "    print(\"Sum of 2 nums =\", a + b)\n",
        "elif o == \"-\":\n",
        "    print(\"Diff of 2 nums =\", a - b)\n",
        "elif o == \"*\":\n",
        "    print(\"Product of 2 nums =\", a * b)\n",
        "elif o == \"/\":\n",
        "    print(\"Quotient of 2 nums =\", a / b)\n",
        "else:\n",
        "    print(\"Wrong input\")"
      ]
    }
  ]
}